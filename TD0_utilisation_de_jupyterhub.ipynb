{
 "cells": [
  {
   "cell_type": "markdown",
   "id": "722477ec",
   "metadata": {},
   "source": [
    "# Pour commencer\n",
    "\n",
    "L'interface de votre point de départ. Sur cet écran, vous pouvez créer des scripts et organiser vos dossiers comme vous le feriez sur votre ordinateur.\n",
    "\n",
    "![](Figures/jupyter_1.png) <br>\n",
    "\n",
    "\n",
    "Vous pouvez aussi upload des fichiers de votre ordinateur soit en utilisant le bouton upload à côté de new, soit avec un cliqué glissé dans la fenêtre.\n",
    "\n",
    "Vous pouvez aussi créer des scripts dans d'autres langages de programmation, notamment python, C et bash pour ceux qui pourraient vous servir."
   ]
  },
  {
   "cell_type": "markdown",
   "id": "67f73405",
   "metadata": {},
   "source": [
    "# Utilisation de l'interface\n",
    "\n",
    "## Chunk\n",
    "Pour commencer, ceci est un notebook divisé en chunk (les rectangles grisés). \n",
    "Ces chunks peuvent être au choix du texte (markdown) ou du code destiné à être exécuté (chaque chunk peut-être exécuté indépendamment).\n",
    "Dans le cas des chunks de code, je vous conseille d'être synthétique. Ne répondez pas à plusieurs questions du TD dans une seule chunk. **Faites plutôt une ou plusieurs chunk par question.**\n",
    "\n",
    "### Créer une nouvelle chunk\n",
    "\n",
    "![](Figures/jupyter_2.png)\n",
    "\n",
    "<span style=\"color:red\">Entouré en rouge : les endroits où vous pouvez cliquer pour ajouter une chunk à un document.</span> <br>\n",
    "<span style=\"color:blue\">Entouré en bleu : vous pouvez de gauche à droite couper, copier et coller la chunk sélectionnée.</span> <br>\n",
    "<span style=\"color:green\"> Entouré en vert, vous pouvez choisir dans le menu déroulant si la chunk sélectionnée est du texte (markdown) ou du code R à exécuter</span> <br>\n",
    "<span style=\"color:black\"> Entouré en noir, vous pouvez déplacer les chunk les une par rapport aux autres monter ou descendre</span> <br>\n",
    "\n",
    "\n",
    "### Écrire et exécuter du code \n",
    "Dans les différents TDs, nous vous demanderons d'écrire du code R.<br>\n",
    "En se plaçant dans une chunk de code, vous pouvez par exemple écrire : <br> \n",
    "`print(\"hello world\")` <br>\n",
    "\n",
    "![](Figures/jupyter_3.png)\n",
    "\n",
    "\n",
    "Pour l'exécuter, il suffit de cliquer <span style=\"color:red\"> sur Exécuter dans l'interface entourée en rouge</span> ou d'utiliser le raccourci *ctrl + entrée*.\n",
    "Pour exécuter toutes les chunks depuis le départ, il suffit de cliquer <span style=\"color:blue\">sur les 2 triangles entourés en bleu</span> et de valider dans le message ci-dessous en cliquant sur l'option rouge.\n",
    "\n",
    "\n",
    "![](Figures/jupyter_4.png)\n",
    "\n",
    "\n",
    "Dans ce cas les chunks sont exécutés de haut en bas donc l'ordre à une importance. **Si vous rencontrez un problème, c'est la première chose à faire.**\n",
    "\n",
    "Si vous souhaitez écrire du texte dans une chunk de code, vous devez écrire un \\# avant le texte, on appelle cela un commentaire. <br>\n",
    "`# je commente la ligne de code écrite en dessous`<br>\n",
    "\n",
    "<span style=\"color:red\">**Pensez bien à sauvegarder régulièrement avec Ctrl+S ou la petite disquette en haut à gauche de l'interface**</span>"
   ]
  },
  {
   "cell_type": "markdown",
   "id": "5fbb2d07",
   "metadata": {},
   "source": [
    "### Générer et télécharger votre travail.\n",
    "Le principal intérêt des notebooks est de pouvoir exporter vos résultats sous la forme d'un rapport avec du texte et vos différents résultats numériques (issue de l'exécution de votre code).\n",
    "\n",
    "\n",
    "![](Figures/jupyter_5.png)\n",
    "\n",
    "\n",
    "<span style=\"color:red\">Vous retrouverez en rouge les formats courants que vous pouvez utiliser pdf ou html.</span> <br>\n",
    "Le rendu de l'examen se fera sous forme d'un pdf qui aura été exporté à partir d'un notebook.\n",
    "\n",
    "\n",
    "Vous pouvez à tout moment télécharger votre travail <span style=\"color:blue\"> en cliquant sur l'option entourée en bleu.</span> <br>**Attention, pour ouvrir ce type de fichier, il vous faudra installer Jupyter notebook (ou/et JupyterLab) et pensez bien à prendre les jeux de données associés**. Cette option n'est donc pas très utile, sauf si vous voulez déplacer votre travail vers la session d'un camarade ou vers *Colaboratory* (cf TD optionnel installation de Rstudio).\n"
   ]
  },
  {
   "cell_type": "markdown",
   "id": "d2e76e9b",
   "metadata": {},
   "source": [
    "### Écrire du texte (optionnel)\n",
    "Dans le cadre de ces TDs, nous nous tiendrons à un usage très simple des notebook-jupyter, mais il est possible de faire des choses plus ou moins complexe. *Un exemple relativement simple, ce document est écrit à partir d'un notebook-jupyter.*\n",
    "\n",
    "Pour écrire du texte, il suffit de le taper simplement dans une chunk de texte.<br> \n",
    "\n",
    "\n",
    "**Attention**, certains symboles ont un sens en markdown et ne s'afficheront pas. Il suffit de mettre un \\\\ avant le symbole, par exemple \\\\\\# pour écrire \\#.\n",
    "\n",
    "\n",
    "Pour écrire un titre, il faut utiliser \\# pour un titre de niveau 1 \\#\\# pour un titre de niveau 2 et ainsi de suite. <br>\n",
    "\n",
    "\n",
    "Pour changer de paragraphe, il faut revenir deux fois à la ligne.<br>\n",
    "\n",
    "\n",
    "Pour mettre du texte en gras, il faut le mettre entre 2 étoiles : \\*\\* **texte en gras** \\*\\*<br>\n",
    "\n",
    "\n",
    "Pour mettre du texte en italique, il faut le mettre entre 1 étoile : \\* *texte en italique* \\*<br>\n",
    "\n",
    "\n",
    "Pour revenir à la ligne, il faut utiliser : \\<br><br>\n",
    "\n",
    "\n",
    "Les possibilités sont multiples, il est assez facile d'insérer des images ou des tables :\n",
    "Pour aller plus loin, voici un [lien vers la documentation de jupyter notebook (en anglais).](https://jupyter-notebook.readthedocs.io/en/stable/examples/Notebook/Working%20With%20Markdown%20Cells.html)\n",
    "Vous pouvez aussi nous poser des questions en fin de TD."
   ]
  }
 ],
 "metadata": {
  "kernelspec": {
   "display_name": "R",
   "language": "R",
   "name": "ir"
  },
  "language_info": {
   "codemirror_mode": "r",
   "file_extension": ".r",
   "mimetype": "text/x-r-source",
   "name": "R",
   "pygments_lexer": "r",
   "version": "4.1.2"
  }
 },
 "nbformat": 4,
 "nbformat_minor": 5
}
