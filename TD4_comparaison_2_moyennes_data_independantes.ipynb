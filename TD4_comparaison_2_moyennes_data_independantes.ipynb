{
 "cells": [
  {
   "cell_type": "markdown",
   "id": "420e73cd",
   "metadata": {},
   "source": [
    "\n",
    "# TD 4 : Test de comparaison de deux moyennes de deux échantillons non-appariés\n",
    "\n",
    "Christelle Gonindard\n",
    "\n",
    "\n",
    "\n",
    "**Objectifs de la séance :\n",
    "Comprendre la notion de test pour la comparaison de deux échantillons non-appariés\n",
    "<=>\n",
    "1 variable quantitative et 1 variable qualitative (à deux modalités)**\n",
    "\n",
    "\n",
    "\n",
    "Il est important de prendre conscience qu’en statistique, le choix du test est primordiale et répond\n",
    "à des conditions. Nous allons donc vous présenter dans cette fiche, différents tests possibles\n",
    "pour comparer les valeurs numériques (variable quantitative) de deux échantillons non-appariés\n",
    "(qui représentent la variable qualitative)\n",
    "1. si les effectifs des deux groupes sont $\\geq 30$ : on applique le test de Student paramétrique\n",
    "2. si l’effectif d’un des groupes, voir les deux est $< 30$, deux possibilités :\n",
    "    - si les données suivent une loi normale et si les variances entre les groupes sont égales : test de Student\n",
    "    - si l’une des conditions citées ci-dessus n’est pas vérifiée : test de Mann-Whitney (non paramétrique)\n",
    "\n",
    "## 1. Test paramétrique de Student \n",
    "\n",
    "###  1.1. Présentation des données\n",
    "\n",
    "Un clinicien évalue l’intensité de la dépression sur l’échelle d'Hamilton qui varie de 0 (non déprimé) à 56 (très déprimé), chez 100 patients souffrant d’un Episode Dépressif Majeur (EDM). On veut savoir si l’acupuncture améliore l’évolution de la dépression. Pour cela, 100 malades de même état dépressif (même score d'Hamilton) sont répartis en 2 groupes de 50 par tirage au sort. Le groupe I a reçu uniquement le traitement pharmacologique et le groupe II a reçu le traitement pharmacologique associé à de l’acuponcture. Le jeu de données contient les variables suivantes :\n",
    "\n",
    "- Hamilton_G1 : Les scores d'Hamilton, après 8 mois de traitement pour le groupe 1\n",
    "- Hamilton_G2 : Les scores d'Hamilton, après 8 mois de traitement pour le groupe 2\n",
    "- Age_G1 : l’âge des patients du groupe 1\n",
    "- Age_G2 : l’âge des patients du groupe 2\n",
    "- poids_G1 : le poids des patients du groupe 1\n",
    "- poids_G2 : le poids des patients du groupe 2\n",
    "- sexe_G1 : le sexe des patients du groupe 1\n",
    "- sexe_G2 : le sexe des patients du groupe 2\n",
    "- Urbanisation_G1 : le niveau d’urbanisation dans lequel vivent les patients du groupe 1 (A : rural, B : urbanisation modérée, C : fortement urbanisé) \n",
    "- Urbanisation_G2 : le niveau d’urbanisation dans lequel vivent les patients du groupe 2 (A : rural, B : urbanisation modérée, C : fortement urbanisé)\n",
    "\n",
    "Les données sont contenues dans le fichier texte : `data_Depression.txt`\n",
    "\n",
    "La lecture des données "
   ]
  },
  {
   "cell_type": "code",
   "execution_count": null,
   "id": "a4a94f2c",
   "metadata": {},
   "outputs": [],
   "source": []
  },
  {
   "cell_type": "markdown",
   "id": "c68bcea6",
   "metadata": {},
   "source": [
    "**Objectif :**\n",
    "\n",
    "On va s’intéresser la moyenne des scores d'Hamilton entre le groupe 1 des femmes\n",
    "et le groupe 2 des femmes afin de déterminer si l’acupuncture améliore l’évolution\n",
    "de la dépression\n",
    "\n",
    "###  1.2. Principe du test de Student\n",
    "\n",
    "On va donc faire un test de comparaison de moyennes pour données non-appariés, c’est-à-dire\n",
    "un test de Student.\n",
    "\n",
    "Le principe de ce test est simple : il va vérifier si l'écart entre les deux moyennes est\n",
    "suffisamment éloigné de 0 avec un certain risque d’erreur $\\alpha$ pour que les deux moyennes soient\n",
    "considérées comme différentes.\n",
    "\n",
    "Le test calcule donc la différence entre $\\mu _1$ et $\\mu _2$ et divise par son écart-type :\n",
    "\n",
    "$$ statistique = \\frac{\\mu _1- \\mu _2}{\\sqrt{\\frac{\\hat{\\sigma}_1 ^2}{n_1} + \\frac{\\hat{\\sigma}_2 ^2}{n_2}}}$$\n",
    "\n",
    "\n",
    "###  1.3. Description des données\n",
    "\n",
    "Avant de commencer une analyse, il est important de présenter et vérifier les données :\n",
    "- Extraction des deux échantillons\n",
    "- taille de l'échantillon\n",
    "- résumé statistique"
   ]
  },
  {
   "cell_type": "code",
   "execution_count": null,
   "id": "f4e43828",
   "metadata": {},
   "outputs": [],
   "source": []
  },
  {
   "cell_type": "markdown",
   "id": "9ceaa93c",
   "metadata": {},
   "source": [
    "En conclusion : d’après cette première analyse descriptive :\n",
    "- les échantillons sont de petites tailles : 11 patientes pour le groupe 1 et 5 pour le groupe 2\n",
    "- il semblerait que les femmes du groupe 1 aient un niveau dépressif plus élevé que les femmes du groupe 2 avec des moyennes respectives de 41.64 et 24.8 et des médianes respectives de 42 et 24. Il apparait également que le troisième quartile du groupe 2 (26) soit inférieur au premier quartile du groupe 1 (39), ce qui va dans le sens d’une différence importante observée entre les deux groupes\n",
    "\n",
    "\n",
    "Ces résultats suggèrent que le niveau de dépression dans le groupe 2 est inférieur au niveau de dépression dans le groupe 1 ce qui impliquerait une efficacité de l’association traitement + acuponcture dans le traitement de la dépression. L'expérience a été faite pour tester cette hypothèse et nous allons maintenant nous y atteler."
   ]
  },
  {
   "cell_type": "code",
   "execution_count": null,
   "id": "337aa815",
   "metadata": {},
   "outputs": [],
   "source": []
  },
  {
   "cell_type": "markdown",
   "id": "2e6776ce",
   "metadata": {},
   "source": [
    "**Conclusion** : ???"
   ]
  },
  {
   "cell_type": "markdown",
   "id": "20d4e7ba",
   "metadata": {},
   "source": [
    "###  1.4. Conditions d'application\n",
    "\n",
    "Avant d’appliquer le test de Student, il faut vérifier les conditions d’application :\n",
    "- Si la taille des échantillons est grande ($n_1$ et $n_2 \\geq 30$) : pas de condition d’application\n",
    "- Si la taille d’au moins un des 2 échantillons est inférieur à 30, il faut que :\n",
    "    - les données des deux échantillons suivent une loi normale\n",
    "    - les variances des deux échantillons soient égales\n",
    "\n",
    "Nous sommes dans le cas de petits échantillons, il faut donc vérifier ces conditions d’application.\n",
    "\n",
    "####  1.4.1 Normalité des données\n",
    "\n",
    "Nous les inspecter visuellement via un qqplot et appliquer le test de Shapiro : <br>\n",
    "$H_0$ : la distribution suit une loi normale.<br>\n",
    "$H_1$ : la distribution ne suit pas une loi normale."
   ]
  },
  {
   "cell_type": "markdown",
   "id": "e25060cc",
   "metadata": {},
   "source": [
    "Les quantiles des femmes du groupe 1 s’alignent bien avec les quantiles théoriques d’une\n",
    "loi normale, en revanche, pour le groupe 2, c'est plus compliqué à vérifier du fait du faible\n",
    "échantillonnage (seulement 5 patientes). On remarque des difficultés d’ajustement aux niveaux\n",
    "des extrémités, ceci est notamment dû à la petite taille du jeu de données."
   ]
  },
  {
   "cell_type": "markdown",
   "id": "51749007",
   "metadata": {},
   "source": [
    "####  1.4.2 Égalité des variances\n",
    "\n",
    "L’égalité des variances va être vérifiée par le test de Fisher-Snedecor de statistique F.\n",
    "Le principe de ce test est simple : il suffit de vérifier si le rapport de la variance la plus grande sur la variance la plus petite est suffisamment supérieure à 1 avec un certain risque d’erreur $\\alpha$ pour que les deux variances soient considérées comme différentes :\n",
    "\n",
    "$$ F = \\frac{\\sigma ^2_{max}}{\\sigma ^2_{min}}$$\n",
    "\n",
    "$H_0$ : Les variances sont égales dans les deux groupes. <br>\n",
    "$H_1$ : Les variances sont différentes entre les deux groupes."
   ]
  },
  {
   "cell_type": "code",
   "execution_count": null,
   "id": "c686eb1c",
   "metadata": {},
   "outputs": [],
   "source": []
  },
  {
   "cell_type": "markdown",
   "id": "bb2eacc8",
   "metadata": {},
   "source": [
    "**Conclusion** : "
   ]
  },
  {
   "cell_type": "markdown",
   "id": "f0a47248",
   "metadata": {},
   "source": [
    "###  1.5. Réalisation du test de Student\n",
    "\n",
    "$H_0$ : Les moyennes sont égales dans les deux groupes.<br>\n",
    "$H_1$ : la moyenne du score d'Hamilton du groupe 1 est supérieure à la moyenne du score d'Hamilton du groupe 2."
   ]
  },
  {
   "cell_type": "code",
   "execution_count": null,
   "id": "b43d2ff8",
   "metadata": {},
   "outputs": [],
   "source": []
  },
  {
   "cell_type": "markdown",
   "id": "e2277db5",
   "metadata": {},
   "source": [
    "**Conclusion** : "
   ]
  },
  {
   "cell_type": "markdown",
   "id": "7401fa54",
   "metadata": {},
   "source": [
    "## 2. Test de comparaison de deux échantillons non-appariés lorsque les conditions d’application du test de Student ne sont pas vérifiées : Test de Mann-Whitney"
   ]
  },
  {
   "cell_type": "markdown",
   "id": "4cb06062",
   "metadata": {},
   "source": [
    "### 2.1 Contexte : Pourquoi des tests non-paramétriques\n",
    "\n",
    "Ces tests ne nécessitent pas d’hypothèses contraignantes sur les distributions et ne nécessitent\n",
    "pas de conditions d’application, **autre que d'avoir des échantillons i.i.d.** :\n",
    "\n",
    "- pas nécessaire de faire des hypothèses sur la forme des distributions (normalité, etc.)\n",
    "- pas nécessaire non plus d’estimer les paramètres associés (ex. la moyenne, variance, etc.)\n",
    "\n",
    "Leur champ d’application est par conséquent plus large que les tests paramétriques.\n",
    "\n",
    "**Les tests non paramétriques sont également adaptés aux données ordinales**. Parfois, les données disponibles sont des ordres de grandeurs, il est difficile de donner une interprétation quantitative claire aux différentes valeurs. Dans ce cas, le plus important est la position relative des observations, leur ordonnancement.\n",
    "\n",
    "*Exemple :*\n",
    "1. lorsque les données s’expriment comme des degrés de préférence (par exemple : très insatisfait, insatisfait, indifférent, satisfait, très satisfait), avec peu de valeurs possibles\n",
    "2. lorsque les données sont catégorielles\n",
    "\n",
    "\n",
    "**Robustesse par rapport aux points aberrants** : la transformation des données en rangs introduit une propriété très appréciable, car les statistiques associées aux rangs sont bien moins sensibles aux points aberrants que les statistiques paramétriques.\n",
    "\n",
    "*En effet, la présence d’un point atypique fausse très souvent la moyenne, qui joue un rôle central\n",
    "dans les tests paramétriques. Si le point atypique correspond à une très grande valeur, s’écartant\n",
    "fortement des autres, la moyenne est \"tirée\" vers le haut, biaisant tous les calculs subséquents.\n",
    "Avec les rangs, seule l’information \"le point correspond à la valeur la plus élevée\", est considéré,\n",
    "sans ordre de grandeur, le rôle néfaste de l’observation atypique est amoindri.*\n",
    "\n",
    "La contrepartie est que ces tests ne tiennent pas compte de la taille des effets : un test comparant les échantillons $\\{1; 2; 3\\}$ et $\\{4; 5; 6\\}$ renverra exactement le même résultat qu'un test comparant les échantillons $\\{1; 2; 3\\}$ et $\\{40; 50; 60\\}$ ...\n",
    "\n",
    "### 2.2 Principe du test \n",
    "\n",
    "Le test de Mann-Whitney utilise les RANGS des données et non les données elles-mêmes,\n",
    "c’est-à-dire l’ordre dans lequel apparaissent les observations des deux échantillons réunis :\n",
    "\n",
    "1. le test attribue un rang aux valeurs des deux échantillons.\n",
    "2. À partir de cela, la moyenne des rangs pour chaque échantillon est calculée. Le principe étant que s'il n’y a pas de différence entre les deux échantillons ($H_0$) alors les rangs moyens devrait être similaire (Statistique U de Mann-Whitney).\n",
    "\n",
    "<img src=\"Figures/Mann_Whitney.png\" />\n",
    "\n",
    "### 3.3 Exemple : Comparaison de 2 régimes alimentaires\n",
    "\n",
    "Deux groupes de 10 lapins ont suivi un même régime enrichi en cholestérol et ont été soumis à 2 traitements différents (pour lutter contre le cholestérol). Les résultats sont-ils différents entre les deux régimes au seuil 2% ?\n",
    "\n",
    "La cholestérolémie est observée en dg/l. \n",
    "\n",
    "Les données sont contenues dans le fichier texte `data_lapin.txt`.\n",
    "\n",
    "1. Charger les données\n"
   ]
  },
  {
   "cell_type": "code",
   "execution_count": null,
   "id": "f99f7405",
   "metadata": {},
   "outputs": [],
   "source": []
  },
  {
   "cell_type": "markdown",
   "id": "af1f7602",
   "metadata": {},
   "source": [
    "2. décrire et présenter les données"
   ]
  },
  {
   "cell_type": "code",
   "execution_count": null,
   "id": "95ad95b2",
   "metadata": {},
   "outputs": [],
   "source": []
  },
  {
   "cell_type": "markdown",
   "id": "2c42fb7f",
   "metadata": {},
   "source": [
    "D’après cette analyse descriptive, il est apparu une valeur fausse 334 dans l’échantillon `y`\n",
    "(individu situé en 4ème position dans l’échantillon `y`). Cette valeur 334 avait pour effet de fortement\n",
    "augmenter la moyenne de l’échantillon `y` et l’on pouvait ainsi observer une différence très\n",
    "forte en moyenne entre `x` et `y` (respectivement 22.5 contre 55.8) cette différence était biaisée par\n",
    "la valeur fausse. En revanche, on peut remarquer que la médiane est nettement moins sensible à\n",
    "une valeur extrême ou fausse, car les médianes étaient respectivement pour x et y de 25.5 et 31.5.\n",
    "Après avoir enlevé l’individu 4 de l’échantillon `y`, on remarque que la différence entre les deux\n",
    "échantillons est plus faible. Il reste maintenant à déterminer si cette différence que l’on observe\n",
    "est significative ou s'il n’existe pas de réelle différence, cette légère différence pouvant s’expliquer\n",
    "par le faible échantillonnage.\n",
    "\n",
    "2. Conditions d'application "
   ]
  },
  {
   "cell_type": "code",
   "execution_count": null,
   "id": "aed8eed6",
   "metadata": {
    "scrolled": true
   },
   "outputs": [],
   "source": []
  },
  {
   "cell_type": "markdown",
   "id": "f47e8dab",
   "metadata": {},
   "source": [
    "Les échantillons sont de petites tailles respectivement pour x et y : 10 et 9 lapins. Les échantillons\n",
    "ne suivent pas une loi normale (*p*-value du test de shapiro < 0.05), nous allons donc réaliser ici\n",
    "un test non paramétrique de Mann-Whitney pour comparer deux échantillons non-appariés.\n",
    "\n",
    "3. Les hypothèses\n",
    "\n",
    "On souhaite vérifier si les régimes alimentaires ont un effet différent, on va donc faire un test\n",
    "bilatérale :\n",
    "\n",
    "$H_0$ : les deux régimes n’affectent pas la cholestérolémie. <br>\n",
    "$H_1$ : les deux régimes affectent la cholestérolémie\n",
    "\n",
    "4. Réalisation du test \n"
   ]
  },
  {
   "cell_type": "code",
   "execution_count": null,
   "id": "325f6a4e",
   "metadata": {},
   "outputs": [],
   "source": []
  },
  {
   "cell_type": "markdown",
   "id": "40c55d27",
   "metadata": {},
   "source": [
    "**Remarque : pour le test de Mann-Whitney, il faut bien utiliser l’instruction wilcox.test, elle permet à la fois de réaliser le test de Mann-Whitney, mais également celui de Wilcoxon comme on le verra ensuite**\n",
    "\n",
    "En conclusion : "
   ]
  },
  {
   "cell_type": "markdown",
   "id": "eac50f78",
   "metadata": {},
   "source": [
    "## 3. Exercices application\n",
    "\n",
    "## Exercice 1\n",
    "\n",
    "L’activité diurétique d’un nouveau médicament et celle d’un produit X d’activité diurétique connu sont comparées chez la souris. Vingt souris de même âge sont réparties en deux groupes de 10. Un groupe reçoit le nouveau médicament et l’autre groupe reçoit le produit X.\n",
    "- QUESTION 1 : Parmi les quatre méthodes indiquées ci-dessous, quelle est la méthode la plus appropriée pour constituer les deux groupes ? Justifier votre réponse.\n",
    "    1. 1ère méthode : les 20 souris sont réparties par tirage au sort en 2 groupes de 10 souris.\n",
    "    2. 2ème méthode : les 20 souris sont toutes placées dans une même cage, l’expérimentateur attrape les 10 premières souris qui se présentent à la sortie de la cage et les place dans une autre cage.\n",
    "    3. 3ème méthode : toutes les souris sont pesées afin de constituer 2 groupes de poids le plus homogène possible. Ainsi, un groupe est constitué des 10 souris de poids le plus faible ; l’autre est constitué des 10 souris de poids le plus élevé.\n",
    "    4. 4ème méthode : toutes les souris sont pesées. Ensuite, pour chaque classe de poids, les souris sont réparties aléatoirement dans les 2 groupes  (échantillonnage stratifié) afin de constituer 2 groupes présentant la même distribution de poids.\n",
    "\n",
    "- QUESTION 2 : Deux conceptions de protocole peuvent être envisagées. Le traitement connu peut être un placebo ou un traitement diurétique de référence. Discuter le choix de chacune de ces deux stratégies.\n",
    "\n",
    "- QUESTION 3 : Une dose fixe de 20 mg du nouveau médicament ou du produit X est administrée à chaque animal. Les deux groupes de 10 souris sont placés dans des cages à métabolisme qui permettent une mesure facile du volume urinaire. \n",
    "\n",
    "Les résultats sont contenus dans le fichier `exercice1_TD3.txt`. Analyser ces données de manière à répondre à la question : La diurèse observée avec le nouveau médicament est-elle significativement supérieure à celle observée avec le produit X, au risque 5%, au risque 1% ?"
   ]
  },
  {
   "cell_type": "code",
   "execution_count": null,
   "id": "1ae1c5a7",
   "metadata": {},
   "outputs": [],
   "source": []
  },
  {
   "cell_type": "markdown",
   "id": "af3cc630",
   "metadata": {},
   "source": [
    "## Exercice 2 \n",
    "\n",
    "Pour déterminer l’indice d’iode de 2 huiles H1 et H2, on a réalisé respectivement 9 et 10\n",
    "dosages. Les indices d’iode sont contenus dans le fichier `data_exercice_1.txt`\n",
    "\n",
    "Répondez à la question suivante : L’indice d’iode diffère-t-il pour les 2 huiles au seuil 5% ?"
   ]
  },
  {
   "cell_type": "code",
   "execution_count": null,
   "id": "8b010d56",
   "metadata": {},
   "outputs": [],
   "source": []
  }
 ],
 "metadata": {
  "kernelspec": {
   "display_name": "R",
   "language": "R",
   "name": "ir"
  },
  "language_info": {
   "codemirror_mode": "r",
   "file_extension": ".r",
   "mimetype": "text/x-r-source",
   "name": "R",
   "pygments_lexer": "r",
   "version": "4.1.2"
  }
 },
 "nbformat": 4,
 "nbformat_minor": 5
}
