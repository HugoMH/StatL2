{
 "cells": [
  {
   "cell_type": "markdown",
   "id": "cad706fd",
   "metadata": {},
   "source": [
    "# TD 5 : Test de comparaison de deux moyennes de deux échantillons appariés\n",
    "\n",
    "Christelle Gonindard\n",
    "\n",
    "\n",
    "\n",
    "**Objectifs de la séance :**\n",
    "Comprendre la notion de test pour la comparaison de deux échantillons appariés.\n",
    "Deux échantillons sont appariés lorsqu'ils portent sur un même échantillon, et que chacune des entités statistiques qui composent cet échantillon (les individus) a été mesurée pour les 2 variables. Ici, les **observations** ne sont pas indépendantes, puisque si les deux variables sont corrélées, le fait de connaitre la valeur pour une des 2 variables nous informe sur les valeurs probables pour les 2 variables.\n",
    "\n",
    "Qu'il s'agisse d'un test paramétrique ou non, la logique utilisée pour gérer l'appariement est la même : le test construit une variable *Différence* entre les 2 échantillons appariés, et c'est elle qui est analysée.\n",
    "\n",
    "En effet, \n",
    "1. si l'on considère 2 échantillons appariés $X_1$ et $X_2$, et que, *au sein de ces 2 variables*, les observations sont i.i.d. alors la différence $D_i = X_{1i} - X_{2i}$ est i.i.d.\n",
    "2. l'hypothèse nulle $H_0$ $E(X_1) = E(X_2)$ est strictement équivalente à l'hypothèse nulle $H_0$ $E(D)=0$\n",
    "\n",
    "Une fois que la variable différence $D_i$ a été construit, les tests sont *strictement* identiques que aux tests des comparaisons de moyenne que nous avons dans le fichier `TD3_notion_de_p-value_et_test_comparaison_valeur_de_référence`.\n",
    "\n",
    "\n",
    "Comme pour la comparaison de deux échantillons indépendants, le choix du test, paramétrique ou non lors de la comparaison de deux échantillons appariés, va dépendre des conditions d’application.\n",
    "1. si l’effectif de l’échantillon est $\\geq 30$ : on applique le test de Student pour données appariées paramétrique\n",
    "2. si l’effectif de l’échantillon est $< 30$, deux possibilités :\n",
    "    - si les données suivent une loi normale : test de Student pour données appariées <br>\n",
    "    à la différence du test de Student pour données non-appariées, celui pour données appariées ne suppose pas l'égalité des variances, car c'est la différence entre les variables qui est analysée.\n",
    "    - si la normalité n’est pas vérifiée : test de Wilcoxon (non-paramétrique)\n",
    "\n",
    "## 1. Test paramétrique de Student pour données appariées \n",
    "\n",
    "### 1.1. Présentation des données\n",
    "\n",
    "Ce jeu de données contient le résultat des taux sériques d’une hormone, exprimées en ng/mL, obtenus sur $n=15$ prélèvements sanguins, à l’aide de 2 techniques de dosage A et B.\n",
    "\n",
    "**La question posée est la suivante : Les moyenne des deux dosages diffèrent-elles ?**\n",
    "\n",
    "Les données sont contenues dans le fichier : `data_dosage_serique.txt`.\n",
    "\n",
    "1. Chargez les données\n",
    "2. Présentez les données\n",
    "3. Décrivez les échantillons\n",
    "\n",
    "Afin d'observer les données appariées, je vous propose la fonction `pairedBoxplot` dont le code est ci-dessous."
   ]
  },
  {
   "cell_type": "code",
   "execution_count": 1,
   "id": "8521fa3c-e9c1-47af-a4e4-a1d4ef0066df",
   "metadata": {},
   "outputs": [],
   "source": [
    "pairedBoxplot = function(tab){\n",
    "    boxplot(tab)\n",
    "    for(j in 2:ncol(tab)){\n",
    "        segments(x0 = j-1, x1 = j,y0 = tab[,j-1],y1 = tab[,j], )\n",
    "        points(rep(j-1, nrow(tab)),tab[,j-1],cex=0.7)\n",
    "        points(rep(j  , nrow(tab)),tab[,j  ],cex=0.7)\n",
    "    }\n",
    "}"
   ]
  },
  {
   "cell_type": "code",
   "execution_count": 2,
   "id": "5eacd808",
   "metadata": {},
   "outputs": [
    {
     "data": {
      "text/html": [
       "<table class=\"dataframe\">\n",
       "<caption>A data.frame: 6 × 3</caption>\n",
       "<thead>\n",
       "\t<tr><th></th><th scope=col>id</th><th scope=col>A</th><th scope=col>B</th></tr>\n",
       "\t<tr><th></th><th scope=col>&lt;int&gt;</th><th scope=col>&lt;int&gt;</th><th scope=col>&lt;int&gt;</th></tr>\n",
       "</thead>\n",
       "<tbody>\n",
       "\t<tr><th scope=row>1</th><td>1</td><td>22</td><td>26</td></tr>\n",
       "\t<tr><th scope=row>2</th><td>2</td><td>27</td><td>24</td></tr>\n",
       "\t<tr><th scope=row>3</th><td>3</td><td>12</td><td>14</td></tr>\n",
       "\t<tr><th scope=row>4</th><td>4</td><td>33</td><td>39</td></tr>\n",
       "\t<tr><th scope=row>5</th><td>5</td><td>14</td><td>17</td></tr>\n",
       "\t<tr><th scope=row>6</th><td>6</td><td>52</td><td>61</td></tr>\n",
       "</tbody>\n",
       "</table>\n"
      ],
      "text/latex": [
       "A data.frame: 6 × 3\n",
       "\\begin{tabular}{r|lll}\n",
       "  & id & A & B\\\\\n",
       "  & <int> & <int> & <int>\\\\\n",
       "\\hline\n",
       "\t1 & 1 & 22 & 26\\\\\n",
       "\t2 & 2 & 27 & 24\\\\\n",
       "\t3 & 3 & 12 & 14\\\\\n",
       "\t4 & 4 & 33 & 39\\\\\n",
       "\t5 & 5 & 14 & 17\\\\\n",
       "\t6 & 6 & 52 & 61\\\\\n",
       "\\end{tabular}\n"
      ],
      "text/markdown": [
       "\n",
       "A data.frame: 6 × 3\n",
       "\n",
       "| <!--/--> | id &lt;int&gt; | A &lt;int&gt; | B &lt;int&gt; |\n",
       "|---|---|---|---|\n",
       "| 1 | 1 | 22 | 26 |\n",
       "| 2 | 2 | 27 | 24 |\n",
       "| 3 | 3 | 12 | 14 |\n",
       "| 4 | 4 | 33 | 39 |\n",
       "| 5 | 5 | 14 | 17 |\n",
       "| 6 | 6 | 52 | 61 |\n",
       "\n"
      ],
      "text/plain": [
       "  id A  B \n",
       "1 1  22 26\n",
       "2 2  27 24\n",
       "3 3  12 14\n",
       "4 4  33 39\n",
       "5 5  14 17\n",
       "6 6  52 61"
      ]
     },
     "metadata": {},
     "output_type": "display_data"
    }
   ],
   "source": [
    "dosage=read.table(\"data/data_dosage_serique.txt\",h=T)\n",
    "\n",
    "head(dosage)"
   ]
  },
  {
   "cell_type": "code",
   "execution_count": null,
   "id": "77510fa1",
   "metadata": {},
   "outputs": [],
   "source": []
  },
  {
   "cell_type": "markdown",
   "id": "3e83aee7",
   "metadata": {},
   "source": [
    "\n",
    "\n",
    "Question : Sur le boxplot que vous venez de tracer, qu'indique la moustache du haut, la moustache du bas."
   ]
  },
  {
   "cell_type": "markdown",
   "id": "7fdee360-f9d4-4128-bc5c-e9ed50721a06",
   "metadata": {},
   "source": [
    "Réponse : <br>\n"
   ]
  },
  {
   "cell_type": "markdown",
   "id": "5515f251",
   "metadata": {},
   "source": [
    "### 1.2. Principe du test de Student pour données appariées\n",
    "\n",
    "Dans le cas présent, si les deux techniques sont identiques, la différence $d$ entre les deux dosages devrait être égale à 0, ce qui revient encore à dire que la moyenne des différences $\\mu_d$ devrait également être égale à 0, ce sera donc notre hypothèse $H_0$.\n",
    "Le principe de ce test est le suivant : il va vérifier si $\\mu_d$ est suffisamment éloigné de 0 avec un\n",
    "certain risque d’erreur $\\alpha$ pour que les deux techniques soient considérées comme significativement\n",
    "différentes.\n",
    "Le test calcule donc la différence entre $\\mu_d$ et 0 et divise par son écart-type pour normaliser :\n",
    "\n",
    " Statistique observée $S_{obs} = \\frac{\\mu_d - 0}{\\frac{S_d}{\\sqrt {n}}}$\n",
    " \n",
    "### 1.3. Hypothèse du test \n",
    "\n",
    "$H_0$ : les moyennes des dosages $A$ et $B$ sont égales, ce qui revient à $E(d) = 0$. <br>\n",
    "$H_1$ : les moyennes des dosages $A$ et $B$ différent, ce qui revient à $E(d) \\neq 0$.\n",
    "\n",
    "### 1.4. Condition d'application\n",
    "\n",
    "- aucune si $n \\ge 30$ (enfin uniquement *individus* indépendants)\n",
    "- si $n < 30$, il faut que la variable aléatoire différence $d$ soit distribuée normalement.\n",
    "\n",
    "\n",
    "Dans ce cas, l’important avant de réaliser ce test est de vérifier que la différence entre les deux dosages suit un loi normale, car l'effectif de l'échantillon est de 15.\n",
    "\n",
    "Nous allons appliquer le test de Shapiro sur la différence entre $A$ et $B$ : <br>\n",
    "$H_0$ : la distribution de la différence suit une loi normale.<br>\n",
    "$H_1$ : la distribution de la différence ne suit pas une loi normale."
   ]
  },
  {
   "cell_type": "code",
   "execution_count": null,
   "id": "0c6af41d",
   "metadata": {},
   "outputs": [],
   "source": []
  },
  {
   "cell_type": "markdown",
   "id": "70fe9236",
   "metadata": {},
   "source": [
    "**Conclusion** : "
   ]
  },
  {
   "cell_type": "markdown",
   "id": "0bcf1fd7",
   "metadata": {},
   "source": [
    "### 1.5. Réalisation du test de Student pour données appariées"
   ]
  },
  {
   "cell_type": "code",
   "execution_count": null,
   "id": "24608505",
   "metadata": {},
   "outputs": [],
   "source": []
  },
  {
   "cell_type": "markdown",
   "id": "e0f2c67e",
   "metadata": {},
   "source": [
    "**Conclusion** : "
   ]
  },
  {
   "cell_type": "markdown",
   "id": "74224adb",
   "metadata": {},
   "source": [
    "## 2. Test non paramétrique de Wilcoxon\n",
    "\n",
    "### 2.1 Principe du test\n",
    "\n",
    "Comme le test de Mann-Whitney, il travaille sur des rangs. Les variables (nommés $A$ et $B$) étant appariés, le test procède schématiquement ainsi :\n",
    "1. Il calcule pour chaque individu la différence entre sa valeur dans la variable $A$ et sa valeur dans la variable $B$\n",
    "2. il calcule le rang des différences en valeur absolue\n",
    "3. il calcule la somme des rangs qui ont une différence positive ($R^+$) et la somme des rangs qui ont une valeur négative ($R^-$)\n",
    "4. puis il teste si ces deux sommes sont significativement différentes1\n",
    "\n",
    "<img src=\"Figures/Wilcox.png\" />\n",
    "\n",
    "\n",
    "### 2.2 Exemple : Comparaison de l’effet de deux drogues\n",
    "\n",
    "On veut tester les effets de deux drogues sur le sommeil, l’hiocyamine et l’hyoscine. L’une\n",
    "des deux drogues est-elle un somnifère plus puissant au seuil 5% ? Les drogues ont été administrées\n",
    "à 10 patients. On mesure alors le temps pendant lequel chaque patient a dormi sans drogue\n",
    "et après l’administration de 0.6 mg de l’une puis de l’autre drogue. Un délai d’une semaine est\n",
    "laissé entre chaque mesure afin d’éliminer complètement l’effet des drogues. Les valeurs données\n",
    "dans le tableau ci-dessous correspondent au temps supplémentaire dormi en présence de la\n",
    "drogue par rapport au temps de sommeil habituel.\n",
    "\n",
    "Comparez l’effet des deux drogues sur le sommeil.\n",
    "\n",
    "Les données sont contenues dans le fichier `data_somnifere.txt`.\n",
    "\n",
    "1. Chargement des données"
   ]
  },
  {
   "cell_type": "code",
   "execution_count": null,
   "id": "3af1d8d9",
   "metadata": {},
   "outputs": [],
   "source": []
  },
  {
   "cell_type": "markdown",
   "id": "b08fc9fd",
   "metadata": {},
   "source": [
    "2. Description des données :"
   ]
  },
  {
   "cell_type": "code",
   "execution_count": null,
   "id": "35f51278",
   "metadata": {},
   "outputs": [],
   "source": []
  },
  {
   "cell_type": "markdown",
   "id": "16d68bd4",
   "metadata": {},
   "source": [
    "D’après cette analyse descriptive, aucune valeur extrême aberrante ne peut être mise en évidence. On remarque que la \u000b",
    "différence entre les deux somnifères est toujours négative (le maximum de la différence est égal à $0$). Il semblerait donc que Hyoscine soit plus efficace que Hiocyamine. Toutefois, il est nécessaire de vérifier si cette différence est significative. C'était le but de l'expérience.\n",
    "Les échantillons sont de petites tailles, respectivement 10 patients.\n",
    "\n",
    "3. Vérification de la normalité de $d$"
   ]
  },
  {
   "cell_type": "code",
   "execution_count": null,
   "id": "4ccd0ea0",
   "metadata": {},
   "outputs": [],
   "source": []
  },
  {
   "cell_type": "markdown",
   "id": "31305d8b",
   "metadata": {},
   "source": [
    "Il apparait également que la différence entre les deux échantillons ne suit pas une loi normale\n",
    "(*p*-value du test de Shapiro < 0.05). Le test de Student pour comparaison de deux échantillons appariés ne peut donc pas être appliqué.\n",
    "\n",
    "Pour cela, nous allons réaliser le test non paramétrique de Wilcoxon pour petits échantillons.\n",
    "\n",
    "4. Réalisons le test\n",
    "\n",
    "On souhaite vérifier si l’Hyoscine est plus efficace que l’Hiocyamine, on va donc faire un\n",
    "test unilatéral : <br>\n",
    "$H_0$ : les deux somnifères ont une efficacité identique <br>\n",
    "$H_1$ : les deux somnifères n'ont pas la même efficacité"
   ]
  },
  {
   "cell_type": "code",
   "execution_count": null,
   "id": "10a5f41b",
   "metadata": {},
   "outputs": [],
   "source": []
  },
  {
   "cell_type": "markdown",
   "id": "2a93f1d3",
   "metadata": {},
   "source": [
    "**Remarque : pour le test de Wilcoxon, il faut bien utiliser l’instruction wilcox.test, elle\n",
    "permet la réalisation du test de wilcoxon pour données appariées en précisant l’instruction\n",
    "paired = T)**\n",
    "\n",
    "*En conclusion* : "
   ]
  },
  {
   "cell_type": "markdown",
   "id": "acc67284",
   "metadata": {},
   "source": [
    "## 3. Exercices d'application\n",
    "\n",
    "### Exercice 1\n",
    "\n",
    "Le dorbienal est un nouveau somnifère. Après avoir démontré la non-dangerosité de leur\n",
    "molécule, le laboratoire espère prouver son efficacité. Pour cela, il lance un test sur une cohorte\n",
    "de 16 personnes. Le protocole est le suivant :\n",
    "1. Le temps de sommeil des 16 personnes est mesuré tous les jours pendant une semaine (période témoin).\n",
    "2. Les patients sont ensuite traités pendant 15 jours avec le dorbienal.\n",
    "3. Le traitement est prolongé une semaine supplémentaire pendant laquelle leur temps de sommeil est nouveau mesuré (période de traitement).\n",
    "\n",
    "Pendant toute l’expérience, on demande aux personnes de bien respecter une heure de coucher\n",
    "constante à 23h.\n",
    "- Question 1 : Ce protocole vous semble-t-il approprié à l’étude de l’efficacité du dorbienal, justifiez ?\n",
    "- Question 2 : Quelle caractéristique principale à ce jeu de données et quel est l’avantage principal de ce type de jeu de données ?\n",
    "- Question 3 : Le dorbienal est-il efficace ? Vous répondrez pour un seuil de 1% et 5% et concluez.\n",
    "\n",
    "Les données sont contenues dans le fichier *data_dorbienal.txt*\n"
   ]
  },
  {
   "cell_type": "code",
   "execution_count": null,
   "id": "0ad1ef22",
   "metadata": {},
   "outputs": [],
   "source": []
  },
  {
   "cell_type": "markdown",
   "id": "38a1a943",
   "metadata": {},
   "source": [
    "### Exercice 2 : \n",
    "\n",
    "Chez quinze sujets, on mesure la fréquence cardiaque (FC) avant et après les avoir soumis à\n",
    "une épreuve de deux minutes consistant à leur faire entendre des bruits d’intensité supérieure à\n",
    "80 décibels. \n",
    "\n",
    "\n",
    "Les résultats de cette expérience, contenus dans le fichier `data_exercice_2.txt`, permettent-ils de conclure au risque d'erreur $\\alpha$=5% et au risque 1%, à un effet de l’épreuve sonore sur la fréquence cardiaque ?\n",
    "\n"
   ]
  },
  {
   "cell_type": "code",
   "execution_count": null,
   "id": "36d4ef16",
   "metadata": {},
   "outputs": [],
   "source": []
  }
 ],
 "metadata": {
  "kernelspec": {
   "display_name": "R",
   "language": "R",
   "name": "ir"
  },
  "language_info": {
   "codemirror_mode": "r",
   "file_extension": ".r",
   "mimetype": "text/x-r-source",
   "name": "R",
   "pygments_lexer": "r",
   "version": "4.1.2"
  }
 },
 "nbformat": 4,
 "nbformat_minor": 5
}
