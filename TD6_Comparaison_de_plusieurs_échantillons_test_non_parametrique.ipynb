{
 "cells": [
  {
   "cell_type": "markdown",
   "id": "283cd2cc",
   "metadata": {},
   "source": [
    "# TD6: Comparaison de plusieurs échantillons (tests non paramétriques)\n",
    "\n",
    "Christelle Gonindard, Margaux Leroy et François Bettega\n",
    "\n",
    "\n",
    "**Objectif de la séance :\n",
    "Comparaison de plusieurs échantillons (tests non paramétriques)**\n",
    "\n",
    "\n",
    "## 1. Test de comparaison non paramétrique de plusieurs échantillons indépendants (Kruskal-Wallis)\n",
    "\n",
    "### 1.1 Principe du test \n",
    "\n",
    "Le test de Kruskal-Wallis est la généralisation à K populations du test bilatéral de Mann-Whitney. Les données de tous les échantillons sont remplacées par leur rang :\n",
    "\n",
    "<img src=\"Figures/Kruskall_Wallis2.jpg\" />\n",
    "\n",
    "Puis, il est calculé : \n",
    "\n",
    "- $\\bar{r}$ la moyenne globale des rangs (rang moyen tous échantillons confondus)\n",
    "- $\\bar{r_k}$ la moyenne des rangs pour les observations de l'échantillon $k$\n",
    "- $n$ la taille cumulée des effectifs de tous les échantillons      \n",
    "\n",
    "<img src=\"Figures/Kruskall_Wallis.jpg\" />\n",
    "\n",
    "Le principe de ce test peut être vu simplement de la manière suivante  : \n",
    "\n",
    "- s'il n'existe pas de différence entre les échantillons, la répartition des rangs entre les échantillons devrait être aléatoire, ce qui impliquerait que les échantillons aient approximativement le même rang moyen, soit $\\bar{r}$\n",
    "- ce qui a pour conséquence que $\\bar{r_k}-\\bar{r}$ devrait être proche de 0 pour chaque échantillon\n",
    "- en conclusion, si on somme ces différences ($\\bar{r_k}-\\bar{r}$) pour tous les échantillons, cette somme devrait être proche de 0.\n",
    "\n",
    "**Pour plus de détails, voir le cours.**\n",
    "\n",
    "### 1.2 Exemple : Comparaison de l’efficacité de 4 traitements\n",
    "\n",
    "Différents traitements pour les boutons de fièvre, dont un placebo (A), ont été assignés au hasard à 20 patients. Les données ci-dessous montrent, pour chaque traitement, le nombre de jours jusqu’à guérison complète.\n",
    "\n",
    "Les données sont contenues dans le fichier `data_bouton_fievre.txt`.\n",
    "\n",
    "**Question : Les temps de guérisons sont-ils différents selon les traitements utilisés ?**\n",
    "\n",
    "1. Charger les données"
   ]
  },
  {
   "cell_type": "code",
   "execution_count": 1,
   "id": "0a6a4dfe",
   "metadata": {},
   "outputs": [],
   "source": [
    "pairedBoxplot = function(tab){\n",
    "    boxplot(tab)\n",
    "    for(j in 2:ncol(tab)){\n",
    "        segments(x0 = j-1, x1 = j,y0 = tab[,j-1],y1 = tab[,j], )\n",
    "        points(rep(j-1, nrow(tab)),tab[,j-1],cex=0.7)\n",
    "        points(rep(j  , nrow(tab)),tab[,j  ],cex=0.7)\n",
    "    }\n",
    "}\n",
    "# Charger les données\n"
   ]
  },
  {
   "cell_type": "markdown",
   "id": "15b13e44",
   "metadata": {},
   "source": [
    "2. Présentation des données et leur description"
   ]
  },
  {
   "cell_type": "code",
   "execution_count": null,
   "id": "a756259d",
   "metadata": {},
   "outputs": [],
   "source": []
  },
  {
   "cell_type": "markdown",
   "id": "381ebd58",
   "metadata": {},
   "source": [
    "**Interprétation du boxplot**\n",
    "\n",
    "1. On observe dans l’échantillon A une valeur extrêmement basse par rapport aux autres, toutefois, elle se situe au niveau des valeurs des autres échantillons, il s’agit donc d’un patient pour qui le bouton de fièvre est resté peu de temps. Aucune valeur aberrante n’est observée.\n",
    "2. il semblerait qu’en termes de médiane, le traitement A soit le moins efficace : pas de différence entre B et D, C semble avoir une médiane légèrement plus faible que B et D. Mais le nombre de points par traitement ($5$) est très faible et donc tout ceci pourrait n'être qu'un effet d'échantillonnage.\n",
    "3. Il est important de comparer également les écarts interquartiles. Dans ce cas, le traitement A apparait comme bien moins efficace que les 3 autres, car son premier quartile est situé au-dessus des 3ème quartile des 3 autres traitements. En revanche, on ne distingue pas de différence entre les traitements B, C et D, leurs boites étant imbriquées les unes dans les autres.\n",
    "\n",
    "Afin de vérifier s'il existe une réelle différence significative entre les échantillons, nous allons réaliser le test de Kruskal-Wallis :\n",
    "\n",
    "3. Hypothèse <br>\n",
    "$H_0$ : les résultats des traitements ne sont pas différents. <br>\n",
    "$H_1$ : les résultats des traitements sont différents.\n",
    "\n",
    "4. Réalisation du test "
   ]
  },
  {
   "cell_type": "code",
   "execution_count": 2,
   "id": "917405eb",
   "metadata": {},
   "outputs": [
    {
     "ename": "ERROR",
     "evalue": "Error in eval(predvars, data, env): object 'bouton' not found\n",
     "output_type": "error",
     "traceback": [
      "Error in eval(predvars, data, env): object 'bouton' not found\nTraceback:\n",
      "1. kruskal.test(bouton$jour ~ bouton$traitement)",
      "2. kruskal.test.formula(bouton$jour ~ bouton$traitement)",
      "3. eval(m, parent.frame())",
      "4. eval(m, parent.frame())",
      "5. stats::model.frame(formula = bouton$jour ~ bouton$traitement)",
      "6. model.frame.default(formula = bouton$jour ~ bouton$traitement)",
      "7. eval(predvars, data, env)",
      "8. eval(predvars, data, env)"
     ]
    }
   ],
   "source": [
    "kruskal.test(bouton$jour~bouton$traitement)"
   ]
  },
  {
   "cell_type": "markdown",
   "id": "ab527562",
   "metadata": {},
   "source": [
    "5. Conclusion du test : \n",
    "???"
   ]
  },
  {
   "cell_type": "code",
   "execution_count": null,
   "id": "902e24d8",
   "metadata": {},
   "outputs": [],
   "source": []
  },
  {
   "cell_type": "markdown",
   "id": "8ca780f1",
   "metadata": {},
   "source": [
    "## 2. Test de comparaison non paramétrique de plusieurs échantillons appariés (Friedman)\n",
    "\n",
    "### 2.1 Principe du test \n",
    "\n",
    "Il s’agit bien d’un test de comparaison de $K$ moyennes, mais sur des données appariées.\n",
    "\n",
    "<img src=\"Figures/Friedman1.png\" />\n",
    "\n",
    "À la différence du test de Kruskal-Wallis par exemple, les valeurs seront uniquement comparables à l’intérieur de chaque\n",
    "groupe.\n",
    "\n",
    "<img src=\"Figures/Friedman2.png\" />\n",
    "\n",
    "Ainsi, nous travaillerons bien sur des rangs, mais calculés à l’intérieur des blocs, c’est ce qui différencie le test de Friedman de tous les tests pour variables indépendantes où les rangs étaient toujours construits à partir de la totalité des observations.\n",
    "Si l’on raisonne par bloc, le principe est le même que celui de Kruskal-Wallis :\n",
    "- s'il n’existe pas de différence entre les échantillons ($H_0$), la répartition des rangs par bloc entre les échantillons devrait être aléatoire\n",
    "- ce qui implique que les échantillons devraient avoir approximativement le même rang moyen qui doit correspondre au rang moyen global\n",
    "- ce qui implique que les différences $\\bar{r_k}-\\bar{r}$ devrait être proche de 0\n",
    "- donc si l’on somme ces différences pour toutes les variables, elle devrait être proche de 0.\n",
    "\n",
    "### 2.2 Exemple : Méthode pour déterminer le poids d’un comprimé\n",
    "\n",
    "Trois méthodes différentes de détermination du poids de comprimés sont utilisées. Nous disposons donc de 10 comprimés et de 3 méthodes.\n",
    "\n",
    "Les données sont contenues dans le fichier `data_poids_comprime.txt`.\n",
    "\n",
    "**La question est la suivante :**\n",
    "- les 3 méthodes donnent-elles les mêmes résultats au seuil 5% ?\n",
    "- sinon, quelle méthode surestime le poids du comprimé au seuil 5% ?\n",
    "\n",
    "1. Chargez les données\n"
   ]
  },
  {
   "cell_type": "code",
   "execution_count": null,
   "id": "3008790c",
   "metadata": {},
   "outputs": [],
   "source": [
    "pairedBoxplot = function(tab){\n",
    "    boxplot(tab)\n",
    "    for(j in 2:ncol(tab)){\n",
    "        segments(x0 = j-1, x1 = j,y0 = tab[,j-1],y1 = tab[,j], )\n",
    "        points(rep(j-1, nrow(tab)),tab[,j-1],cex=0.7)\n",
    "        points(rep(j  , nrow(tab)),tab[,j  ],cex=0.7)\n",
    "    }\n",
    "}\n",
    "\n",
    "# Charger les données"
   ]
  },
  {
   "cell_type": "markdown",
   "id": "d78e671f",
   "metadata": {},
   "source": [
    "2. Description des données"
   ]
  },
  {
   "cell_type": "code",
   "execution_count": null,
   "id": "d29ba07b",
   "metadata": {},
   "outputs": [],
   "source": [
    "comprimeWide = cbind('methode1' = comprime$poids[comprime$methode=='methode1']\n",
    "                    ,'methode2' = comprime$poids[comprime$methode=='methode2']\n",
    "                    ,'methode3' = comprime$poids[comprime$methode=='methode3'])\n",
    "\n"
   ]
  },
  {
   "cell_type": "markdown",
   "id": "5c656d77",
   "metadata": {},
   "source": [
    "**Interprétation du boxplot**\n",
    "\n",
    "- On n’observe pas de valeurs extrêmes dans les échantillons.\n",
    "- Les médianes des méthodes 1 et 3 sont sensiblement équivalentes.\n",
    "- Il est important de comparer les écarts interquartiles. Dans ce cas, on ne distingue pas de différence entre les 3 méthodes, leurs boites étant imbriquées les unes dans les autres.\n",
    "- Il y a un fort effet de l'appariement sur la structure des données : l'ordre des points dans chaque traitement est très similaire. Ceci va augmenter la puissance statistique du test, car la prise en compte de l'appariement par ce dernier va *'enlever'* la variabilité commune aux trois méthodes.\n",
    "\n",
    "Nous allons maintenant répondre à la première question grâce à un test de Friedman dans la mesure où les données sont appariées :\n",
    "\n",
    "3. Les hypothèses <br>\n",
    "$H_0$ : Il n’y a pas de différence significative entre les méthodes. <br>\n",
    "$H_1$ : Il existe une différence significative entre au moins deux des méthodes.\n",
    "\n",
    "4. Réalisation du test "
   ]
  },
  {
   "cell_type": "code",
   "execution_count": null,
   "id": "05500f4b",
   "metadata": {},
   "outputs": [],
   "source": [
    "friedman.test( y = comprime$poids,   groups = comprime$methode,   blocks = comprime$appariement )"
   ]
  },
  {
   "cell_type": "markdown",
   "id": "95eff6b7",
   "metadata": {},
   "source": [
    "**En conclusion**, au risque 5%, la *p*-value < 0.05, il existe une différence significative entre les méthodes.\n",
    "\n",
    "Au premier abord, cela peut sembler surprenant, car les boxplot se chevauchent largement. Cependant, les données sont appariées, et la variabilité intra-groupe est similaire dans les 3 groupes, ce qui explique ce résultat, au premier abord surprenant.\n",
    "\n",
    "Pour savoir quelle méthode surestime le poids du comprimé, il est nécessaire de comparer les résultats des méthodes deux à deux. \n",
    "\n",
    "Pour cela, nous allons créer 3 groupes de données :\n",
    "- un groupe qui contient les poids mesurés par la méthode 1\n",
    "- un groupe qui contient les poids mesurés par la méthode 2\n",
    "- un groupe qui contient les poids mesurés par la méthode 3\n",
    "\n",
    "puis, nous comparerons ces groupes deux à deux avec un test non paramétrique de Wilcoxon pour données appariées :"
   ]
  },
  {
   "cell_type": "code",
   "execution_count": null,
   "id": "149c9775",
   "metadata": {},
   "outputs": [],
   "source": []
  },
  {
   "cell_type": "code",
   "execution_count": null,
   "id": "23cdbf9b",
   "metadata": {},
   "outputs": [],
   "source": [
    "# Comparaison 2 à 2 à partir de test de Wilcoxon\n",
    "\n"
   ]
  },
  {
   "cell_type": "markdown",
   "id": "127be19a",
   "metadata": {},
   "source": [
    "**En conclusion **: <br>\n",
    "la méthode 1 surestime le poids du comprimé par rapport à la méthode 2.<br>\n",
    "Pour la méthode 3, la différence est *marginalement significative*.<br>\n",
    "<u>/!\\\\</u> Pour bien faire, il faudrait **corriger pour les tests multiples** <br>\n",
    "Nous venons de faire 3 tests avec $\\alpha=0.05$. Le risque de se tromper sur au moins un des tests est donc de $P(\\textrm{se tromper sur le test 1 ou sur le test 2 ou sur le test 3}) = 0.05+0.05+0.05 = 0.15$. Classiquement, on corrige le $\\alpha$ utilisé pour chaque test pour garder un risque globale à $0.05$.\n"
   ]
  },
  {
   "cell_type": "markdown",
   "id": "a42f2761",
   "metadata": {},
   "source": [
    "## 3. Exercices d'application\n",
    "\n",
    "### Exercice 1 \n",
    "\n",
    "Un médicament est administré à un groupe de 12 sujets selon trois modes : dans le mode I, pris comme référence, le médicament est administré chez les sujets à jeun, dans le mode II après un petit déjeuner normal et dans le mode III après un petit déjeuner riche en lipides. Les résultats du dosage sanguin du médicament, notés pour les modes d’administration I, II et III respectivement y1, y2 et y3 et exprimés en ng/L. \n",
    "\n",
    "Comparez l’effet sur les taux sanguins du médicament des modes d’administration I, II et III.\n",
    "\n",
    "Les données sont contenues dans le fichier `data_exercice3.txt`\n"
   ]
  },
  {
   "cell_type": "code",
   "execution_count": null,
   "id": "31089761",
   "metadata": {},
   "outputs": [],
   "source": []
  },
  {
   "cell_type": "markdown",
   "id": "e0593a3f",
   "metadata": {},
   "source": [
    "### Exercice 2 :\n",
    "\n",
    "Trois laboratoires différents A, B, C fabriquent des ampoules pour préparations injectables.\n",
    "On désire savoir si le facteur fabricant a une influence sur les diamètres des ampoules. Les\n",
    "diamètres de 5 ampoules par fabricant sont mesurés. Les données sont exprimées en mm. \n",
    "\n",
    "Répondez aux questions suivantes : \n",
    "\n",
    "1. Existe-t-il une différence significative entre les trois ampoules ?\n",
    "2. Si oui, tester quels laboratoires obtiennent des résultats différents.\n",
    "\n",
    "Les données sont contenues dans le fichier `data_exercice4.txt`"
   ]
  },
  {
   "cell_type": "code",
   "execution_count": null,
   "id": "13a8315b",
   "metadata": {},
   "outputs": [],
   "source": []
  }
 ],
 "metadata": {
  "kernelspec": {
   "display_name": "R",
   "language": "R",
   "name": "ir"
  },
  "language_info": {
   "codemirror_mode": "r",
   "file_extension": ".r",
   "mimetype": "text/x-r-source",
   "name": "R",
   "pygments_lexer": "r",
   "version": "4.1.2"
  }
 },
 "nbformat": 4,
 "nbformat_minor": 5
}
