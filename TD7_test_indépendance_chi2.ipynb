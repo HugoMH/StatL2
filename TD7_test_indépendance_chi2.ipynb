{
 "cells": [
  {
   "cell_type": "markdown",
   "id": "780e061a",
   "metadata": {},
   "source": [
    "# TD7 : Test d'indépendance du $\\chi ^2$ entre deux variables qualitatives\n",
    "\n",
    "Christelle Gonindard\n",
    "\n",
    "Test du $\\chi^2$ : \n",
    "Ce test effectue une comparaison entre la répartition d'une série d'effectifs observée dans différentes catégories à une répartition d'effectifs attendue pour ces si l'hypothèse $H_0$ est vraie. <br>\n",
    "Ce test est très flexible, car toute hypothèse relative a des effectifs, qui peut être formulée en termes d’effectifs attendus, peut être testée par ce test. <br>\n",
    "La façon de calculer les effectifs attendus varie selon les hypothèses testées, et ceci impacte les degrés de liberté associés aux tests : <br>\n",
    "La formule générale des degrés de liberté associés à un test du $\\chi^2$ est <span style=\"color:red\">$ddl=J-s-1$</span>, avec\n",
    "\n",
    "- $J$ : Nombre de catégories possibles, <u>/!\\\\</u> inclure les 0, cet oubli des catégories non-observée, mais présente dans la distribution attendue, est une erreur classique.\n",
    "- $s$ : Nombre de paramètres *indépendants les un des autres*, estimés à partir des données et utilisés pour calculer les attendus\n",
    "\n",
    "**Objectif de la séance :\n",
    "Tester l'existence d'une association entre deux variables <u>qualitatives<u/> $X$ et $Y$ via un test du $chi^2$**\n",
    "\n",
    "## Contexte\n",
    "\n",
    "Ce test permet de vérifier l’absence de lien statistique entre deux variables $X$ et $Y$ qui sont qualitatives.\n",
    "$X$ et $Y$ sont dits indépendants lorsqu’il n’existe aucun lien statistique entre elles, dit autrement,\n",
    "**la connaissance de $X$ ne permet en aucune manière de se prononcer sur $Y$**. <br>\n",
    "Mathématiquement, cela donne $P(Y=y \\vert X=x) = P(Y=y \\vert X\\neq x)$ <br>\n",
    "L’hypothèse nulle ($H_0$) de ce test est donc la suivante : les deux variables $X$ et $Y$ sont indépendantes.\n",
    "\n",
    "#### Degrés de liberté du <span style=\"color:red\">$\\chi^2$ générale</span>, et du <span style=\"color:green\">$\\chi^2$ d'indépendance entre variables</span>\n",
    "Dans ce cadre, on a une catégorie, un effectif par combinaison de modalités de la variable $X$ et de la variable $Y$.\n",
    "\n",
    "Pour le test d'indépendance entre $X$ et $Y$, 2 variables ayant chacune $n_X$ et $n_Y$ catégories, on a : <br>\n",
    "- $J = n_X \\times n_Y$ cellules *possibles* <br>\n",
    "- $s = (n_X-1) + (n_Y-1) = n_X + n_Y - 2$ <br>\n",
    "- <span style=\"color:red\">$\\Rightarrow ddl = J-s-1$</span> $= n_X \\times n_Y - n_X - n_Y + 2 - 1$ <br>\n",
    "$ ~~~~~~~~~~~ = n_X \\times (n_Y-1) - n_Y + 1$ <br>\n",
    "$ ~~~~~~~~~~~ = n_X \\times (n_Y-1) - (n_Y - 1)$ <br>\n",
    "$ ~~~~~~~~~~~ = $ <span style=\"color:green\">$(n_X-1) \\times (n_Y-1)$</span> <br>\n",
    "\n",
    "#### Statistique observée\n",
    "$$\\chi_{obs}^2 = \\sum_{i=1}^{J}{\\frac{(obs_i-att_i)^2}{att_i}}$$\n",
    "\n",
    "Si $H_0$ est vrai alors, $\\chi_{obs}^2\\sim\\chi_{\\nu=ddl}^2$ :\n",
    "\n",
    "![](Figures/chi2.jpg)\n",
    " \n",
    "## Méthodologie\n",
    "\n",
    "Le fichier de données `data_etudiant_tabac` contient les réponses de 237 étudiants de statistique\n",
    "de l’Université d’Adélaïde à un certain nombre de questions. Nous allons nous intéresser\n",
    "aux variables :\n",
    "1. Fumeur : enregistre les habitudes tabagiques des étudiants, les valeurs autorisées dans Fumeur sont \"Heavy\", \"Regul\" (régulièrement), \"Occas\" (occasionnellement) et \"Never\".\n",
    "2. Exercice : enregistre leur niveau d’exercice, les valeurs autorisées sont \"Freq\" (fréquemment), \"Some\" et \"None\"\n",
    "3. Sexe : Homme ou Femme\n",
    "\n",
    "Ces trois variables sont qualitatives. \n",
    "Il est donc possible de tester grâce à un $\\chi ^2$ d’indépendance le lien entre chacune des variables prises deux à deux. \n",
    "**Par exemple : nous pouvons vérifier s'il existe un lien entre les habitudes tabagiques des élèves et leur niveau d’exercice.**\n",
    "\n",
    "\n",
    "## Présentation des données\n",
    "\n",
    "1. Chargez les données"
   ]
  },
  {
   "cell_type": "code",
   "execution_count": null,
   "id": "4103ec34",
   "metadata": {},
   "outputs": [],
   "source": []
  },
  {
   "cell_type": "markdown",
   "id": "b41a48d2",
   "metadata": {},
   "source": [
    "2. Considérons les variables *Fumeur* et *Exercice* : \n",
    "    - Afficher les effectifs observés\n",
    "    - Représenter les sur un graphique"
   ]
  },
  {
   "cell_type": "code",
   "execution_count": null,
   "id": "ba89618c-073d-40ee-a718-4c6e99567465",
   "metadata": {},
   "outputs": [],
   "source": [
    "table(data_etudiant_tabac$Exercice,data_etudiant_tabac$Fumeur)\n",
    "\n",
    "unique(data_etudiant_tabac$Exercice)[c(2,1,3)]\n",
    "data_etudiant_tabac$Exercice_fac = factor(data_etudiant_tabac$Exercice, levels = unique(data_etudiant_tabac$Exercice)[c(2,1,3)])\n",
    "\n",
    "unique(data_etudiant_tabac$Fumeur)[c(1,3,2,4)]\n",
    "data_etudiant_tabac$Fumeur_fac   = factor(data_etudiant_tabac$Fumeur, levels = unique(data_etudiant_tabac$Fumeur)[c(1,3,2,4)])\n",
    "\n",
    "table(data_etudiant_tabac$Exercice_fac,data_etudiant_tabac$Fumeur_fac)"
   ]
  },
  {
   "cell_type": "code",
   "execution_count": null,
   "id": "a6f4c3b8-3f67-4bfe-954c-4895870f9706",
   "metadata": {},
   "outputs": [],
   "source": [
    "data_etudiant_tabac$Exercice_num = as.numeric(data_etudiant_tabac$Exercice_fac)\n",
    "data_etudiant_tabac$Fumeur_num   = as.numeric(data_etudiant_tabac$Fumeur_fac  )"
   ]
  },
  {
   "cell_type": "code",
   "execution_count": null,
   "id": "8d66870b",
   "metadata": {},
   "outputs": [],
   "source": [
    "plot(factor(data_etudiant_tabac$Exercice),factor(data_etudiant_tabac$Fumeur),xlab=\"Exercice\",ylab=\"Fumeur\")\n",
    "\n",
    "sunflowerplot(data_etudiant_tabac$Fumeur_num ~ data_etudiant_tabac$Exercice_num)"
   ]
  },
  {
   "cell_type": "markdown",
   "id": "e64c5d76",
   "metadata": {},
   "source": [
    "## Hypothèses\n",
    "\n",
    "$H_0$ : Indépendances entre le tabac et les exercices <br>\n",
    "$H_1$ : Dépendance entre le tabac et les exercices <br>\n",
    "\n",
    "## Vérification des conditions d'application\n",
    "Toutes les classes doivent avoir un effectif attendu sous $H_0$ non nul, et 80 % des classes doivent avoir un effectif attendu supérieur ou égale à 5."
   ]
  },
  {
   "cell_type": "code",
   "execution_count": null,
   "id": "a5cf1e9c",
   "metadata": {},
   "outputs": [],
   "source": [
    "# Calcul des effectifs attendus sous HO\n",
    "Att = chisq.test( data_etudiant_tabac$Exercice, data_etudiant_tabac$Fumeur )$expected\n",
    "Att\n",
    "mean(Att>5)"
   ]
  },
  {
   "cell_type": "markdown",
   "id": "05416dbe-d325-467d-8ddc-d127573ee0eb",
   "metadata": {},
   "source": [
    "Donc, on ne respecte pas la règle des 5 éléments (0.666 < 0.8). Deux solutions s'offrent à nous :\n",
    "\n",
    "1. On fusionne certaines catégories de faible effectif\n",
    "2. Plutôt que de comparer le $\\chi_{obs}^2$ à la distribution du $\\chi^2$, on simule la distribution nulle (un peu comme pour le test de permutation étudié au TD3).\n",
    "\n",
    "Pour la stratégie 1., on va regrouper les colonnes *None* et *Some* de la variable Exercice.\n"
   ]
  },
  {
   "cell_type": "code",
   "execution_count": null,
   "id": "8667d29f-acbd-4265-8c5b-e45792b0cb5d",
   "metadata": {},
   "outputs": [],
   "source": [
    "data_etudiant_tabac. = data_etudiant_tabac\n",
    "# On remplace les None et Some par des Some_or_None\n",
    "data_etudiant_tabac.$Exercice[ data_etudiant_tabac$Exercice==\"None\" | data_etudiant_tabac$Exercice==\"Some\" ] = \"Some_or_None\"\n",
    "\n",
    "# Vérification\n",
    "table(data_etudiant_tabac.$Exercice)"
   ]
  },
  {
   "cell_type": "markdown",
   "id": "ae890b16",
   "metadata": {},
   "source": [
    "Vérifiez que les effectifs attendus sous $H_0$ associés à ce nouveau regroupement sont bien supérieurs à 5. "
   ]
  },
  {
   "cell_type": "code",
   "execution_count": null,
   "id": "59a27fb5",
   "metadata": {},
   "outputs": [],
   "source": []
  },
  {
   "cell_type": "markdown",
   "id": "67b07ec3",
   "metadata": {},
   "source": [
    "Maintenant que les effectifs attendus sont bien supérieur à 5, nous allons pouvoir réaliser le test du $\\chi^2$\n",
    "\n",
    "#### Réalisation du test "
   ]
  },
  {
   "cell_type": "code",
   "execution_count": null,
   "id": "1cfe7c3a",
   "metadata": {},
   "outputs": [],
   "source": [
    "chisq.test( data_etudiant_tabac.$Exercice, data_etudiant_tabac.$Fumeur )"
   ]
  },
  {
   "cell_type": "markdown",
   "id": "c974b68c-d829-401f-a4af-713de69796b5",
   "metadata": {},
   "source": [
    "La sortie du test indique que le test a 3 degrés de liberté. <br>\n",
    "Expliquez comment cette valeur a été obtenue."
   ]
  },
  {
   "cell_type": "code",
   "execution_count": null,
   "id": "f02c05f8-f7b6-42a7-b22d-2aed08b7a5bc",
   "metadata": {},
   "outputs": [],
   "source": []
  },
  {
   "cell_type": "code",
   "execution_count": null,
   "id": "da6fd904-2e9f-4a0f-a569-f14649401c74",
   "metadata": {},
   "outputs": [],
   "source": []
  },
  {
   "cell_type": "code",
   "execution_count": null,
   "id": "e49a5e3a-008b-4e08-84f6-16b08c65606d",
   "metadata": {},
   "outputs": [],
   "source": []
  },
  {
   "cell_type": "markdown",
   "id": "e8dbf9c0-a7fb-47a4-81ed-9478b30c4ea0",
   "metadata": {},
   "source": [
    "Pour la stratégie 2., la simulation de la distribution nulle est implémentée par la fonction `chisq.test`"
   ]
  },
  {
   "cell_type": "code",
   "execution_count": null,
   "id": "91803b5c",
   "metadata": {
    "scrolled": true
   },
   "outputs": [],
   "source": [
    "chisq.test( data_etudiant_tabac.$Exercice, data_etudiant_tabac$Fumeur, simulate.p.value = T , B = 1e4)"
   ]
  },
  {
   "cell_type": "markdown",
   "id": "7b47ba51",
   "metadata": {},
   "source": [
    "**Conclusion** : Au seuil 5%, il n’existe pas de lien significatif entre le fait de fumer et la pratique d’exercice"
   ]
  },
  {
   "cell_type": "markdown",
   "id": "c43fa43d",
   "metadata": {},
   "source": [
    "## Exercice d'application\n",
    "\n",
    "Soit Jeu de données `tabac.txt`. Il s’agit d’une étude qui a été réalisée sur 100 patients\n",
    "d’un service hospitalier afin de vérifier la relation entre le tabac et les problèmes pulmonaires.\n",
    "Pour cela, nous avons demandé à chaque personne son âge, son sexe, sa situation (célibataire,\n",
    "marié, ...), sa consommation de tabac (nombre de cigarettes par jour), la présence de tabagisme\n",
    "passif, et la présence de problème pulmonaire (cancer du poumon, BPCO, ...) chez cette personne.\n",
    "La variable fumeur est défini de la manière suivante : FALSE s'il ne fume pas de cigarette et\n",
    "TRUE s'il fume au moins 1 cigarette par jour.\n",
    "\n",
    "Répondez aux questions suivantes :\n",
    "\n",
    "1. Les fumeurs ont-ils significativement plus de problèmes pulmonaires ?"
   ]
  },
  {
   "cell_type": "code",
   "execution_count": null,
   "id": "74f1acdc",
   "metadata": {},
   "outputs": [],
   "source": []
  },
  {
   "cell_type": "markdown",
   "id": "85eceea0",
   "metadata": {},
   "source": [
    "2. Existe-il un lien entre le tabagisme passif et les problèmes pulmonaires ?"
   ]
  },
  {
   "cell_type": "code",
   "execution_count": null,
   "id": "6dd121c1",
   "metadata": {},
   "outputs": [],
   "source": []
  }
 ],
 "metadata": {
  "kernelspec": {
   "display_name": "R",
   "language": "R",
   "name": "ir"
  },
  "language_info": {
   "codemirror_mode": "r",
   "file_extension": ".r",
   "mimetype": "text/x-r-source",
   "name": "R",
   "pygments_lexer": "r",
   "version": "4.1.2"
  }
 },
 "nbformat": 4,
 "nbformat_minor": 5
}
