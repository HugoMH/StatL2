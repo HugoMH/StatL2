{
 "cells": [
  {
   "cell_type": "markdown",
   "id": "d7f314d9",
   "metadata": {},
   "source": [
    "\n",
    "# TD 3 : Test de comparaison d'une moyenne observée à une valeur de référence\n",
    "\n",
    "Christelle Gonindard\n",
    "\n",
    "\n",
    "## 1. Présentation des données\n",
    "\n",
    "Un clinicien évalue l’intensité de la dépression sur l’échelle de Hamilton qui varie de 0 (non déprimé) à 56 (très déprimé), chez 100 patients souffrant d’un Episode Dépressif Majeur (EDM). On veut savoir si l’acupuncture améliore l’évolution de la dépression. Pour cela, 100 malades de même état dépressif (même score de Hamilton) sont répartis en 2 groupes de 50 par tirage au sort. Le groupe I a reçu uniquement le traitement pharmacologique et le groupe II a reçu le traitement pharmacologique associé à de l’acuponcture. Le jeux de données contient les variables suivantes :\n",
    "\n",
    "- Hamilton_G1 : Les scores de Hamilton, après 8 mois de traitement pour le groupe 1\n",
    "- Hamilton_G2 : Les scores de Hamilton, après 8 mois de traitement pour le groupe 2\n",
    "- Age_G1 : l’âge des patients du groupe 1\n",
    "- Age_G2 : l’âge des patients du groupe 2\n",
    "- poids_G1 : le poids des patients du groupe 1\n",
    "- poids_G2 : le poids des patients du groupe 2\n",
    "- sexe_G1 : le sexe des patients du groupe 1\n",
    "- sexe_G2 : le sexe des patients du groupe 2\n",
    "- Urbanisation_G1 : le niveau d’urbanisation dans lequel vivent les patients du groupe 1 (A : rural, B : urbanisation modéré, C : fortement urbanisé) \n",
    "- Urbanisation_G2 : le niveau d’urbanisation dans lequel vivent les patients du groupe 2 (A : rural, B : urbanisation modéré, C : fortement urbanisé)\n",
    "\n",
    "Les données sont contenues dans le fichier texte : `data_Depression.txt`\n",
    "\n",
    "La lecture des données \n",
    "\n"
   ]
  },
  {
   "cell_type": "code",
   "execution_count": 1,
   "id": "c7e80ec0",
   "metadata": {},
   "outputs": [],
   "source": [
    "\n",
    "# chargement des fonctions dont vous aurez besoin (à partir de maintenant pensez à l'ajouter vous même \n",
    "# dans les TD suivants)\n",
    "C.I <- function(x,alpha){\n",
    "    alpha <- 1-alpha\n",
    "    mu = mean(x)\n",
    "    sigma <- sd(x)\n",
    "    n = length(x)\n",
    "    CI_inf = mu - (qt(1 - alpha/2,n-1) * sigma/sqrt(n))\n",
    "    CI_sup = mu + (qt(1 - alpha/2,n-1) * sigma/sqrt(n))\n",
    "    CI = c(inf = CI_inf ,sup = CI_sup) \n",
    "    return(CI)\n",
    "}\n",
    "\n"
   ]
  },
  {
   "cell_type": "markdown",
   "id": "549dca85-ce29-4c45-b0bc-090980c4aba4",
   "metadata": {},
   "source": [
    "## 2. Notion de *p*-value : illustration test de **permutation** bilatéral\n",
    "\n",
    "**Objectif :**\n",
    "\n",
    "**Comprendre les étapes communes à tous les tests statistiques**\n",
    "\n",
    "1. Établir les hypothèses nulles ($H_0$) et alternatives ($H_1$). L'hypothèse nulle est aussi appelée hypothèse \"économe\" ou \"parcimonieuse\" <br>\n",
    "Il doit n'y avoir que 2 hypothèses : **$H_0$ faux $\\Rightarrow$ $H_1$ vraie**. <br>\n",
    "Il y a typiquement une seule façon de respecter $H_0$ et une multitude de façons de respecter $H_1$. <br>\n",
    "2. Établir une statistique observée ($S_{obs}$) qui i) utilise l'ensemble du jeu de donnée concerné par le test et ii) décrit la tendance à dévier de $H_0$ pour se rapprocher de $H_1$.\n",
    "3. Établir la *distribution nulle* de $S_{obs}$ : Si l'hypothèse nulle $H_0$ est vraie, quelle est la *densité de probabilité* de $S_{obs}$ ? Autrement dit, quelles sont les valeurs de $S_{obs}$ qui sont probables ou improbables si $H_0$ est vraie ?\n",
    "4. Extraire de la *distribution nulle*, la <span style=\"color:red\"> ***p*-value** : la probabilité d'obtenir une valeur de $S_{obs}$ au moins aussi extrême que celle observée.</span>\n",
    "\n",
    "<img src=\"Figures/p-value.jpg\" alt=\"drawing\" width=\"600\"/>\n",
    "\n",
    "\n",
    "**On voudrait savoir si les scores d'Hamilton observés dans le groupe 1 chez les femmes sont égaux en moyenne aux scores observés le groupe 2.**\n",
    "1. $H_0$ : ils sont égaux, la différence observée est due aux aléas d'échantillonnages. Ils n'ont qu'une seule façon d'être égaux. <br>\n",
    "$H_1$ : ils sont différents, et c'est la principale cause de la différence observée. Il y a une multitude de façons d'être différents.\n",
    "2. Par exemple : $S_{obs} = \\hat{\\mu}_1 - \\hat{\\mu}_2$. Mais on pourrait aussi prendre la médiane, et non la moyenne, par exemple si l'on a des valeurs extrêmes dans de petits échantillons.\n",
    "3. Établir la **distribution nulle** de $S_{obs}$ : **si $H_0$ est vraie**, quelles sont les valeurs de $S_{obs}$ qui sont probables et celles qui sont improbables ? <br>\n",
    "Si $H_0$ est vraie, alors, la différence observée est uniquement due à l'effet d'échantillonnage, et les scores d'Hamilton observés dans les groupes 1 et 2 proviennent de la même *population*. <br>\n",
    "On peut donc simuler l'effet d'échantillonnage en mélangeant les données des groupes 1 et 2 et en les redivisant en 2 groupes pour observer la différence que l'on obtient. Si l'on répète cette opération beaucoup de fois, l'ensemble des différences observées après le mélange de nos 2 groupes constitue la distribution nulle. <br>\n",
    "Répéter cette opération de très nombreuses fois à la main serait fastidieux. Nous allons donc demander à l'ordinateur de le faire pour nous. Avant l'avènement de l'informatique, des outils mathématiques ont été développés en utilisant la même logique (quelle serait la distribution, ou densité de probabilité, de $S_{obs}$ si $H_0$ était vraie ?). Cependant, pour réaliser cette déduction mathématique de la distribution nulle, il a été nécessaire de réaliser des hypothèses sur les données (ex : la normalité). Ceci rajoute des conditions d'applications aux tests statistiques qu'il convient de vérifier avant de les appliquer."
   ]
  },
  {
   "cell_type": "code",
   "execution_count": null,
   "id": "ed8b0f48",
   "metadata": {},
   "outputs": [],
   "source": [
    "head(data_depression)\n",
    "\n",
    "# Extraction des données\n",
    "femme_G1 <- data_depression$Hamilton_G1[data_depression$sexe_G1==\"F\"]\n",
    "femme_G2 <- data_depression$Hamilton_G1[data_depression$sexe_G2==\"F\"]\n",
    "\n",
    "# Affichage des données extraites\n",
    "femme_G1\n",
    "femme_G2"
   ]
  },
  {
   "cell_type": "code",
   "execution_count": null,
   "id": "76d4f597-8786-4b5e-9933-ea8d43e6a25a",
   "metadata": {},
   "outputs": [],
   "source": [
    "# Obtenir la différence moyenne\n",
    "GetMeanDiff = function(sample1, sample2){\n",
    "    mean(sample1) - mean(sample2)\n",
    "}\n",
    "Sobs = GetMeanDiff(femme_G1,femme_G2)\n",
    "Sobs"
   ]
  },
  {
   "cell_type": "code",
   "execution_count": null,
   "id": "2dba72f6-d816-470d-9c57-28556384a28b",
   "metadata": {},
   "outputs": [],
   "source": [
    "# Obtenir la distribution nulle de la différence moyenne\n",
    "getMixedSamples = function(sample1, sample2){\n",
    "    mixed_pooled_samples = sample(c(sample1, sample2))\n",
    "    return(list(mixed_pooled_samples[1:length(sample1)]\n",
    "              , mixed_pooled_samples[(length(sample1)+1):length(mixed_pooled_samples)]\n",
    "               ))\n",
    "}\n",
    "\n",
    "Snull = vector(length = 1e4)\n",
    "for(perm in 1:1e4){\n",
    "    MixedSplitedSamples = getMixedSamples( femme_G1, femme_G2 )\n",
    "    Snull[perm] = GetMeanDiff(MixedSplitedSamples[[1]]  , MixedSplitedSamples[[2]])\n",
    "}\n"
   ]
  },
  {
   "cell_type": "code",
   "execution_count": null,
   "id": "f804827f-07d4-42a9-9273-3c548aaeb9bc",
   "metadata": {},
   "outputs": [],
   "source": [
    "# Afficher la distribution nulle et la comparer visuellement à la statistique observée\n",
    "hist(Snull)\n",
    "abline(v = Sobs, col=2, lwd=3)\n",
    "abline(v = -Sobs, col=2, lwd=1.5, lty=2)"
   ]
  },
  {
   "cell_type": "code",
   "execution_count": null,
   "id": "5a6ec1ff-1548-41f2-ad67-f52053fca6ac",
   "metadata": {},
   "outputs": [],
   "source": [
    "# Calculer la p-value (probabilité d'obtenir une valeur de 'Sobs' au moins aussi extrême que celle observée) : \n",
    "# On peut être extrème, soit du coté négatif\n",
    "Pneg = Snull < -abs(Sobs)\n",
    "Pneg\n",
    "Pneg = sum(Pneg) / 1e4\n",
    "# soit du coté positif\n",
    "Ppos = Snull >  abs(Sobs)\n",
    "Ppos = sum(Ppos) / 1e4\n",
    "cat(\"p-value = \",Pneg+Ppos,\" : \")"
   ]
  },
  {
   "cell_type": "markdown",
   "id": "469a3f7a-ac00-48b5-931a-11765426359a",
   "metadata": {},
   "source": [
    " **La probabilité d'observer une différence aussi forte que ce qu'on l'a observé si $H_0$ est vraie est de 0.7319**. Il n'y a donc pas d'évidence que la différence soit liée à autre chose qu'un effet d'échantillonnage. Le test est donc **inconclusif** : il est tout à fait possible qu'il y ait une différence, mais s'il y en a une, les données ne permettent pas de la détecter."
   ]
  },
  {
   "cell_type": "markdown",
   "id": "4cd875bd",
   "metadata": {},
   "source": [
    "## 3. Test bilatéral\n",
    "\n",
    "\n",
    "**Objectif :**\n",
    "\n",
    "**On voudrait savoir si les scores d'Hamilton observés dans le groupe 1 chez les femmes sont égaux en moyenne à la valeur de référence 29.**\n",
    "\n",
    "Nous devons réaliser un test de Student comparant la moyenne estimée par la fonction `mean()` avec la valeur de référence escomptée E = 29 dans notre cas.\n",
    "\n",
    "*Le principe de ce test est simple* : il va vérifier si l’écart entre la moyenne observée $\\mu$ dans l’échantillon et la valeur de référence $\\mu _0$ est suffisamment éloigné de 0 avec un certain risque d’erreur $\\alpha$ pour que les deux moyennes soient considérées comme différentes.\n",
    "Le test calcule donc la différence entre $\\mu$ et $\\mu _0$ et divise par son écart-type pour normaliser :\n",
    "\n",
    "$$ T = \\frac{\\mu - \\mu _0}{\\sqrt{\\frac{\\hat{\\sigma} ^2}{n} }}=\\frac{\\mu - \\mu _0}{\\frac{\\hat{\\sigma}}{\\sqrt{n}}}$$\n",
    "\n",
    "<img src=\"Figures/Test_bilateral.jpg\" />\n",
    "\n",
    "$H_0$ : le score d'Hamilton chez les femmes du groupe 1 est égal à 29. <br>\n",
    "$H_1$ : le score d'Hamilton chez les femmes du groupe 1 n’est pas égal à 29.\n",
    "\n",
    "**Extraction de l'échantillon** :\n",
    "**Taille de l'échantillon** :\n"
   ]
  },
  {
   "cell_type": "code",
   "execution_count": null,
   "id": "09169f51-b4a8-49dc-a4e4-3d65c8e40ca1",
   "metadata": {},
   "outputs": [],
   "source": []
  },
  {
   "cell_type": "markdown",
   "id": "4de7c333",
   "metadata": {},
   "source": [
    "**Vérification des conditions d'application**\n",
    "\n",
    "Il faut vérifier la taille de l'échantillon : \n",
    "- Si la taille de l’échantillon est grande ($n \\geq 30$) : pas de condition d’application\n",
    "- Si la taille de l’échantillon est petite ($n < 30$) : il faut que les données suivent une loi normale\n",
    "\n",
    "Vérifiez les conditions d'application "
   ]
  },
  {
   "cell_type": "markdown",
   "id": "c70f6efb",
   "metadata": {},
   "source": [
    "Hypothèses du test de Shapiro : <br>\n",
    "$H_0$ : ??? <br>\n",
    "$H_1$ : ???"
   ]
  },
  {
   "cell_type": "code",
   "execution_count": null,
   "id": "7215d6fb",
   "metadata": {},
   "outputs": [],
   "source": []
  },
  {
   "cell_type": "markdown",
   "id": "25866884",
   "metadata": {},
   "source": [
    "Conclusion, au seuil 5%, la *p*-value > 0.05 donc on ne peut pas rejeter $H_0$ : les données ne dévient pas significativement d'une loi normale"
   ]
  },
  {
   "cell_type": "markdown",
   "id": "2586f62e",
   "metadata": {},
   "source": [
    "**Réalisation du test de Student**"
   ]
  },
  {
   "cell_type": "code",
   "execution_count": null,
   "id": "b5a5cfd0",
   "metadata": {},
   "outputs": [],
   "source": [
    "t.test(femme_G1,mu=29)"
   ]
  },
  {
   "cell_type": "markdown",
   "id": "359f6b73",
   "metadata": {},
   "source": [
    "Conclusion, au seuil 5%, la *p*-value < 0.05 donc on rejette $H_0$, le score d'Hamilton pour les femmes du groupe 1 est différent de 29. La probabilité d'observer des données aussi improbable que les notres, si la moyenne de la population est de 29 est de $2.36\\times 10^{-7}$."
   ]
  },
  {
   "cell_type": "markdown",
   "id": "95666587",
   "metadata": {},
   "source": [
    "## 4. Test unilatéral\n",
    "\n",
    "**Objectif :**\n",
    "\n",
    "On voudrait savoir si les scores d'Hamilton observés dans le groupe 2 chez les femmes sont supérieurs en moyenne à 0.\n",
    "Le score d'Hamilton varie de 0 (non déprimé) à 56 (très déprimé). On sait donc par construction qu'il ne peut pas être inférieur à 0. Dans ce type de cas particulier, on peut choisir un test unilatéral.\n",
    "\n",
    "$H_0$ : le score d'Hamilton chez les femmes du groupe 2 est égal à 29.<br>\n",
    "$H_1$ : le score d'Hamilton chez les femmes du groupe 2 est supérieur à 29.<br>\n",
    "\n",
    "<img src=\"Figures/Test_unilateral.jpg\" />\n"
   ]
  },
  {
   "cell_type": "code",
   "execution_count": null,
   "id": "e8cd90f8",
   "metadata": {},
   "outputs": [],
   "source": [
    "# l'argument alternative = greater permet la sélection du test unilatéral\n",
    "t.test(femme_G2,mu=0,alternative=\"greater\")"
   ]
  },
  {
   "cell_type": "markdown",
   "id": "4f19c155",
   "metadata": {},
   "source": [
    "*Conclusion* : Au seuil 5%, la *p*-value < 0.05 donc on rejette l’hypothèse $H_0$ donc le score de\n",
    "Hamilton pour les femmes du groupe 2 est supérieur à 0."
   ]
  },
  {
   "cell_type": "markdown",
   "id": "c198b987",
   "metadata": {},
   "source": [
    "## 5. Exercices d'application sur le jeu de données data_depression.txt\n",
    "\n",
    "###  Exercice 1\n",
    "\n",
    "Répondez aux questions suivantes, les tests seront réalisés au seuil $\\alpha=0.02$ :\n",
    "\n",
    "1. Est-ce que les scores d'Hamilton observés dans le groupe 2 chez les femmes est inférieur en moyenne à 56 ?\n",
    "2. Est-ce que les scores d'Hamilton observés dans le groupe 1 chez les hommes est supérieur en moyenne à 0 ?\n",
    "3. Est-ce que les scores d'Hamilton observés dans le groupe 2 chez les hommes est supérieur en moyenne à 0 ?\n",
    "4. Est-ce que les scores d'Hamilton observés dans le groupe 1 chez les femmes est supérieur en moyenne à 0 ?\n",
    "\n",
    "Concluez.\n"
   ]
  },
  {
   "cell_type": "code",
   "execution_count": null,
   "id": "013be752-b6f9-451b-8db1-b7044d9a9432",
   "metadata": {},
   "outputs": [],
   "source": []
  },
  {
   "cell_type": "code",
   "execution_count": null,
   "id": "acd46f1c-9f25-4a7b-8f1f-941c1961c2b7",
   "metadata": {},
   "outputs": [],
   "source": []
  },
  {
   "cell_type": "code",
   "execution_count": null,
   "id": "25df079a-2023-46f3-b8cc-9f447f581163",
   "metadata": {},
   "outputs": [],
   "source": []
  },
  {
   "cell_type": "code",
   "execution_count": null,
   "id": "5cc87bd2-c108-4697-87f8-390ad4885ed9",
   "metadata": {},
   "outputs": [],
   "source": []
  },
  {
   "cell_type": "code",
   "execution_count": null,
   "id": "eab3ed1e-2fd0-4d4c-a53c-2b6134e275e7",
   "metadata": {},
   "outputs": [],
   "source": []
  },
  {
   "cell_type": "code",
   "execution_count": null,
   "id": "798e32d9-ddaf-450c-ad0a-bf13fe7c8ae3",
   "metadata": {},
   "outputs": [],
   "source": []
  },
  {
   "cell_type": "markdown",
   "id": "d9904f0d",
   "metadata": {},
   "source": [
    "### Exercice 2 (à faire à la maison pour s'entrainer)\n",
    "\n",
    "Répondez aux questions suivantes, les tests seront réalisés au seuil $\\alpha=0.01$ :\n",
    "\n",
    "1. Est-ce que les scores d'Hamilton observés dans le groupe 2 dans les zones rurales sont différents en moyenne à 29?\n",
    "2. Est-ce que les scores d'Hamilton observés dans le groupe 2 dans les zones à urbanisation modéré sont différents en moyenne à 29?\n",
    "3. Est-ce que les scores d'Hamilton observés dans le groupe 2 dans les zones fortement urbanisées sont inférieurs en moyenne à 25?\n",
    "4. Est-ce que les scores d'Hamilton observés dans le groupe 1 dans les zones rurales sont inférieurs en moyenne à 39?\n",
    "5. Est-ce que les scores d'Hamilton observés dans le groupe 1 dans les zones à urbanisation modéré sont supérieurs en moyenne à 29?\n",
    "6. Est-ce que les scores d'Hamilton observés dans le groupe 1 dans les zones fortement urbanisées sont différents en moyenne à 25?\n",
    "\n",
    "Concluez."
   ]
  },
  {
   "cell_type": "code",
   "execution_count": null,
   "id": "e838c160-15ef-47fd-98fe-7cc112cd64b9",
   "metadata": {},
   "outputs": [],
   "source": []
  },
  {
   "cell_type": "code",
   "execution_count": null,
   "id": "dfc8c5cb-d958-4c68-a841-faeb9529e978",
   "metadata": {},
   "outputs": [],
   "source": []
  },
  {
   "cell_type": "code",
   "execution_count": null,
   "id": "2948c293-6571-47cb-9437-7d87a54bf407",
   "metadata": {},
   "outputs": [],
   "source": []
  },
  {
   "cell_type": "code",
   "execution_count": null,
   "id": "a7935f75-8961-4faf-b45a-afb2f0077714",
   "metadata": {},
   "outputs": [],
   "source": []
  },
  {
   "cell_type": "code",
   "execution_count": null,
   "id": "aea7a100-3508-4085-9690-9a7212cb6708",
   "metadata": {},
   "outputs": [],
   "source": []
  },
  {
   "cell_type": "code",
   "execution_count": null,
   "id": "550c0d0c-63b8-4691-8ae8-a8bd6a1cd82f",
   "metadata": {},
   "outputs": [],
   "source": []
  }
 ],
 "metadata": {
  "kernelspec": {
   "display_name": "R",
   "language": "R",
   "name": "ir"
  },
  "language_info": {
   "codemirror_mode": "r",
   "file_extension": ".r",
   "mimetype": "text/x-r-source",
   "name": "R",
   "pygments_lexer": "r",
   "version": "4.1.2"
  }
 },
 "nbformat": 4,
 "nbformat_minor": 5
}
